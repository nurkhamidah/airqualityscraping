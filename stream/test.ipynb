{
 "cells": [
  {
   "cell_type": "code",
   "execution_count": null,
   "metadata": {},
   "outputs": [],
   "source": [
    "import pymongo as pm\n",
    "import streamlit as st\n",
    "import os\n",
    "\n",
    "con = pm.MongoClient(os.getenv(\"ATLAS_URL\"))\n",
    "db = con[os.getenv(\"ATLAS_DB\")]\n",
    "collection = db[os.getenv(\"ATLAS_COLLECTION\")]\n",
    "\n",
    "collection.find_one()\n",
    "# Test get all data\n",
    "vec_result = []\n",
    "for x in collection.find():\n",
    "  vec_result.append(x)\n"
   ]
  },
  {
   "cell_type": "code",
   "execution_count": null,
   "metadata": {},
   "outputs": [],
   "source": [
    "vec_result"
   ]
  },
  {
   "cell_type": "code",
   "execution_count": null,
   "metadata": {},
   "outputs": [],
   "source": [
    "type(vec_result[1])"
   ]
  },
  {
   "cell_type": "code",
   "execution_count": 43,
   "metadata": {},
   "outputs": [
    {
     "name": "stdout",
     "output_type": "stream",
     "text": [
      "dict_keys(['_id', 'id', 'date', 'time', 'aqi_value', 'pm25_value', 'recommendation', 'aqi_local_rank', 'aqi_indo_rank', 'weather_info'])\n",
      "dict_keys(['_id', 'id', 'date', 'time', 'aqi_value', 'pm25_value', 'recommendation', 'aqi_local_rank', 'aqi_indo_rank', 'weather_info'])\n",
      "dict_keys(['_id', 'id', 'date', 'time', 'aqi_value', 'pm25_value', 'recommendation', 'aqi_local_rank', 'aqi_indo_rank', 'weather_info'])\n",
      "dict_keys(['_id', 'id', 'date', 'time', 'aqi_value', 'pm25_value', 'recommendation', 'aqi_local_rank', 'aqi_indo_rank', 'weather_info'])\n",
      "dict_keys(['_id', 'id', 'date', 'time', 'aqi_value', 'pm25_value', 'recommendation', 'aqi_local_rank', 'aqi_indo_rank', 'weather_info'])\n",
      "dict_keys(['_id', 'id', 'date', 'time', 'aqi_value', 'pm25_value', 'recommendation', 'aqi_local_rank', 'aqi_indo_rank', 'weather_info'])\n",
      "dict_keys(['_id', 'id', 'date', 'time', 'aqi_value', 'pm25_value', 'recommendation', 'aqi_local_rank', 'aqi_indo_rank', 'weather_info'])\n",
      "dict_keys(['_id', 'id', 'date', 'time', 'aqi_value', 'pm25_value', 'recommendation', 'aqi_local_rank', 'aqi_indo_rank', 'weather_info'])\n",
      "dict_keys(['_id', 'id', 'date', 'time', 'aqi_value', 'pm25_value', 'recommendation', 'aqi_local_rank', 'aqi_indo_rank', 'weather_info'])\n",
      "dict_keys(['_id', 'id', 'date', 'time', 'aqi_value', 'pm25_value', 'recommendation', 'aqi_local_rank', 'aqi_indo_rank', 'weather_info'])\n",
      "dict_keys(['_id', 'id', 'date', 'time', 'aqi_value', 'pm25_value', 'recommendation', 'aqi_local_rank', 'aqi_indo_rank', 'weather_info'])\n"
     ]
    }
   ],
   "source": [
    "import pandas as pd\n",
    "\n",
    "for i in range(0, len(vec_result)):\n",
    "    print(vec_result[i].keys())"
   ]
  },
  {
   "cell_type": "code",
   "execution_count": null,
   "metadata": {},
   "outputs": [],
   "source": [
    "for i in range(0, len(vec_result)):\n",
    "    print(vec_result[i][\"date\"][0])"
   ]
  },
  {
   "cell_type": "code",
   "execution_count": null,
   "metadata": {},
   "outputs": [],
   "source": [
    "for i in range(0, len(vec_result)):\n",
    "    if i % 4 ==0:\n",
    "        print(vec_result[i][\"time\"][0], i)"
   ]
  },
  {
   "cell_type": "code",
   "execution_count": null,
   "metadata": {},
   "outputs": [],
   "source": [
    "for i in range(0, len(vec_result)):\n",
    "    print(vec_result[i][\"aqi_value\"][0][\"score\"])"
   ]
  },
  {
   "cell_type": "code",
   "execution_count": 45,
   "metadata": {},
   "outputs": [
    {
     "data": {
      "text/html": [
       "<div>\n",
       "<style scoped>\n",
       "    .dataframe tbody tr th:only-of-type {\n",
       "        vertical-align: middle;\n",
       "    }\n",
       "\n",
       "    .dataframe tbody tr th {\n",
       "        vertical-align: top;\n",
       "    }\n",
       "\n",
       "    .dataframe thead th {\n",
       "        text-align: right;\n",
       "    }\n",
       "</style>\n",
       "<table border=\"1\" class=\"dataframe\">\n",
       "  <thead>\n",
       "    <tr style=\"text-align: right;\">\n",
       "      <th></th>\n",
       "      <th>#</th>\n",
       "      <th>city</th>\n",
       "      <th>US AQI</th>\n",
       "    </tr>\n",
       "  </thead>\n",
       "  <tbody>\n",
       "    <tr>\n",
       "      <th>0</th>\n",
       "      <td>1</td>\n",
       "      <td>Cileungsir, West Java</td>\n",
       "      <td>171</td>\n",
       "    </tr>\n",
       "    <tr>\n",
       "      <th>1</th>\n",
       "      <td>2</td>\n",
       "      <td>Pasarkemis, West Java</td>\n",
       "      <td>160</td>\n",
       "    </tr>\n",
       "    <tr>\n",
       "      <th>2</th>\n",
       "      <td>3</td>\n",
       "      <td>Jakarta, Jakarta</td>\n",
       "      <td>153</td>\n",
       "    </tr>\n",
       "    <tr>\n",
       "      <th>3</th>\n",
       "      <td>4</td>\n",
       "      <td>Surabaya, East Java</td>\n",
       "      <td>143</td>\n",
       "    </tr>\n",
       "    <tr>\n",
       "      <th>4</th>\n",
       "      <td>5</td>\n",
       "      <td>Bekasi, West Java</td>\n",
       "      <td>121</td>\n",
       "    </tr>\n",
       "    <tr>\n",
       "      <th>5</th>\n",
       "      <td>6</td>\n",
       "      <td>Serang, Banten</td>\n",
       "      <td>101</td>\n",
       "    </tr>\n",
       "    <tr>\n",
       "      <th>6</th>\n",
       "      <td>7</td>\n",
       "      <td>Sukasada, Bali</td>\n",
       "      <td>96</td>\n",
       "    </tr>\n",
       "    <tr>\n",
       "      <th>7</th>\n",
       "      <td>8</td>\n",
       "      <td>Bangil, East Java</td>\n",
       "      <td>92</td>\n",
       "    </tr>\n",
       "    <tr>\n",
       "      <th>8</th>\n",
       "      <td>9</td>\n",
       "      <td>Semarang, Central Java</td>\n",
       "      <td>85</td>\n",
       "    </tr>\n",
       "    <tr>\n",
       "      <th>9</th>\n",
       "      <td>10</td>\n",
       "      <td>Depok, West Java</td>\n",
       "      <td>82</td>\n",
       "    </tr>\n",
       "  </tbody>\n",
       "</table>\n",
       "</div>"
      ],
      "text/plain": [
       "    #                    city  US AQI\n",
       "0   1   Cileungsir, West Java     171\n",
       "1   2   Pasarkemis, West Java     160\n",
       "2   3        Jakarta, Jakarta     153\n",
       "3   4     Surabaya, East Java     143\n",
       "4   5       Bekasi, West Java     121\n",
       "5   6          Serang, Banten     101\n",
       "6   7          Sukasada, Bali      96\n",
       "7   8       Bangil, East Java      92\n",
       "8   9  Semarang, Central Java      85\n",
       "9  10        Depok, West Java      82"
      ]
     },
     "execution_count": 45,
     "metadata": {},
     "output_type": "execute_result"
    }
   ],
   "source": [
    "pd.DataFrame(vec_result[len(vec_result)-1][\"aqi_indo_rank\"], columns=[\"#\", \"city\", \"US AQI\"])"
   ]
  },
  {
   "cell_type": "code",
   "execution_count": 46,
   "metadata": {},
   "outputs": [
    {
     "data": {
      "text/plain": [
       "[{'#': 1, 'station': 'Darul Quran Mulia', 'US AQI': 175},\n",
       " {'#': 2, 'station': 'Northridge, Sentul city', 'US AQI': 78},\n",
       " {'#': 3, 'station': 'Gereja Kristus Bogor Jl Siliwangi', 'US AQI': 4}]"
      ]
     },
     "execution_count": 46,
     "metadata": {},
     "output_type": "execute_result"
    }
   ],
   "source": [
    "vec_result[len(vec_result)-1][\"aqi_local_rank\"]"
   ]
  },
  {
   "cell_type": "code",
   "execution_count": null,
   "metadata": {},
   "outputs": [],
   "source": [
    "vec_result[len(vec_result)-1][\"recommendation\"]"
   ]
  },
  {
   "cell_type": "code",
   "execution_count": null,
   "metadata": {},
   "outputs": [],
   "source": [
    "import pandas as pd\n",
    "d = []\n",
    "for i in range(0, len(vec_result)):\n",
    "    if vec_result[i][\"date\"][0] == \"2023-06-08\":\n",
    "        d.append(vec_result[i][\"aqi_value\"][0])\n",
    "        print(vec_result[i][\"aqi_value\"][0])\n",
    "pd.DataFrame(d, columns=[\"score\", \"unit\", \"desc\"])\n"
   ]
  },
  {
   "cell_type": "code",
   "execution_count": null,
   "metadata": {},
   "outputs": [],
   "source": [
    "d = []\n",
    "\n",
    "for i in range(0, len(vec_result)):\n",
    "    if vec_result[i][\"date\"][0] == \"2023-06-08\":\n",
    "        d.append(vec_result[i][\"aqi_value\"][0])\n",
    "        print(vec_result[i][\"aqi_value\"][0])\n",
    "pd.DataFrame(d, columns=[\"score\", \"unit\", \"desc\"])"
   ]
  },
  {
   "cell_type": "code",
   "execution_count": null,
   "metadata": {},
   "outputs": [],
   "source": [
    "a = [1, 2, 34]\n",
    "a.index(34)"
   ]
  },
  {
   "cell_type": "code",
   "execution_count": null,
   "metadata": {},
   "outputs": [],
   "source": [
    "waktu = [\"Pagi 06:00 WIB\", \"Siang 12:00 WIB\", \"Sore 18:00 WIB\", \"Malam 00:00 WIB\"]\n",
    "id = 2\n",
    "t = []\n",
    "dat = []\n",
    "for i in range(0, len(vec_result)):\n",
    "    if i % 4 + 2 == id:\n",
    "        t.append(vec_result[i][\"aqi_value\"][0])\n",
    "        dat.append(vec_result[i][\"date\"][0])\n",
    "        \n",
    "t1 = pd.DataFrame(t, columns=[\"score\", \"unit\", \"desc\"])\n",
    "dat1 = pd.DataFrame(dat, columns=[\"date\"])"
   ]
  },
  {
   "cell_type": "code",
   "execution_count": null,
   "metadata": {},
   "outputs": [],
   "source": [
    "pd.concat([dat1, t1], axis=1)"
   ]
  },
  {
   "cell_type": "code",
   "execution_count": null,
   "metadata": {},
   "outputs": [],
   "source": []
  }
 ],
 "metadata": {
  "kernelspec": {
   "display_name": "Python 3",
   "language": "python",
   "name": "python3"
  },
  "language_info": {
   "codemirror_mode": {
    "name": "ipython",
    "version": 3
   },
   "file_extension": ".py",
   "mimetype": "text/x-python",
   "name": "python",
   "nbconvert_exporter": "python",
   "pygments_lexer": "ipython3",
   "version": "3.10.6"
  },
  "orig_nbformat": 4
 },
 "nbformat": 4,
 "nbformat_minor": 2
}
